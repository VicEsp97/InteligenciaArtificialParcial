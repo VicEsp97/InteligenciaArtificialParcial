{
 "cells": [
  {
   "cell_type": "code",
   "execution_count": 2,
   "id": "cad1fe51-e327-4253-a2a6-776072a1871f",
   "metadata": {},
   "outputs": [
    {
     "name": "stdout",
     "output_type": "stream",
     "text": [
      "a. Error: El tercer registro solo tiene 3 valores.\n",
      "b. Tercer valor del segundo registro: Perú\n"
     ]
    }
   ],
   "source": [
    "#Crear una lista de listas llamada nueva_lista que contenga 5 registros de 3 registros cada uno (el contenido no importa).  \n",
    "#a. Imprimir el cuarto valor del tercer registro \n",
    "#b. Imprimir el tercer valor del segundo registro \n",
    "\n",
    "nueva_lista = [\n",
    "    [\"Argentina\", \"Brasil\", \"Chile\"], \n",
    "    [\"Colombia\", \"Ecuador\", \"Perú\"], \n",
    "    [\"México\", \"Guatemala\", \"Honduras\"], \n",
    "    [\"España\", \"Francia\", \"Alemania\"], \n",
    "    [\"Japón\", \"China\", \"Corea del Sur\"]\n",
    "]\n",
    "\n",
    "# Imprime el cuarto valor del tercer registro (pero solo tiene 3 valores)\n",
    "# try se utiliza para intentar ejecutar un código que podría generar un error.\n",
    "# intenta acceder al índice 3 generará un IndexError, que es un error que ocurre cuando se intenta acceder a un índice que no existe en una lista.\n",
    "try:\n",
    "    print(\"a. Cuarto valor del tercer registro:\", nueva_lista[2][3]) \n",
    "except IndexError:\n",
    "#except captura el error IndexError si ocurre. En lugar de que el programa se detenga con un mensaje de error, se ejecuta el código dentro del bloque \n",
    "    print(\"a. Error: El tercer registro solo tiene 3 valores.\")\n",
    "\n",
    "# Imprime el tercer valor del segundo registro\n",
    "print(\"b. Tercer valor del segundo registro:\", nueva_lista[1][2])\n"
   ]
  },
  {
   "cell_type": "code",
   "execution_count": 7,
   "id": "839ae592-7bd6-4d74-9509-184c068d9d50",
   "metadata": {},
   "outputs": [
    {
     "name": "stdout",
     "output_type": "stream",
     "text": [
      "a. La cantidad de inscritos en el tercer registro : 30\n",
      "b. La cantidad de aprobados en el último registro : 28\n",
      "c. El porcentaje de aprobados en el segundo registro : 80.0 %\n"
     ]
    }
   ],
   "source": [
    "# Crear una lista de diccionarios con tres diccionarios, donde cada diccionario registre los valores para curso, inscritos y aprobados. \n",
    "# Luego imprimir: \n",
    "# la cantidad de inscritos en el tercer registro \n",
    "# la cantidad de aprobados en el último registro \n",
    "# el porcentaje de aprobados en el segundo registro \n",
    "\n",
    "cursos = [\n",
    "    {\"curso\": \"Inteligencia Artificial\", \"inscritos\": 40, \"aprobados\": 35},\n",
    "    {\"curso\": \"Proyecto de Graduación\", \"inscritos\": 25, \"aprobados\": 20},\n",
    "    {\"curso\": \"Redes\", \"inscritos\": 30, \"aprobados\": 28}\n",
    "]\n",
    "\n",
    "# a. Obtener la cantidad de inscritos en el tercer registro \n",
    "inscritos_tercer = cursos[2][\"inscritos\"]\n",
    "print(\"a. La cantidad de inscritos en el tercer registro :\", inscritos_tercer)\n",
    "\n",
    "# b. Obtener la cantidad de aprobados en el último registro y se almacena en una variable\n",
    "aprobados_ultimo = cursos[-1][\"aprobados\"]\n",
    "print(\"b. La cantidad de aprobados en el último registro :\", aprobados_ultimo)\n",
    "\n",
    "# c. Calcular el porcentaje de aprobados en el segundo registro \n",
    "aprobados_segundo = cursos[1][\"aprobados\"]\n",
    "inscritos_segundo = cursos[1][\"inscritos\"]\n",
    "porcentaje_aprobados = (aprobados_segundo / inscritos_segundo) * 100\n",
    "print(\"c. El porcentaje de aprobados en el segundo registro :\", porcentaje_aprobados, \"%\")\n",
    "\n"
   ]
  },
  {
   "cell_type": "code",
   "execution_count": 8,
   "id": "5e4e0a55-7c18-40b3-ac47-0c3106978eec",
   "metadata": {},
   "outputs": [],
   "source": [
    "# se importa biblioteca que permite el análisis y la manipulación de datos \n",
    "import pandas as pd"
   ]
  },
  {
   "cell_type": "code",
   "execution_count": 10,
   "id": "fe8e787d-a47a-42ff-bc7f-36abff64a337",
   "metadata": {},
   "outputs": [
    {
     "data": {
      "text/html": [
       "<div>\n",
       "<style scoped>\n",
       "    .dataframe tbody tr th:only-of-type {\n",
       "        vertical-align: middle;\n",
       "    }\n",
       "\n",
       "    .dataframe tbody tr th {\n",
       "        vertical-align: top;\n",
       "    }\n",
       "\n",
       "    .dataframe thead th {\n",
       "        text-align: right;\n",
       "    }\n",
       "</style>\n",
       "<table border=\"1\" class=\"dataframe\">\n",
       "  <thead>\n",
       "    <tr style=\"text-align: right;\">\n",
       "      <th></th>\n",
       "      <th>state</th>\n",
       "      <th>sex</th>\n",
       "      <th>year</th>\n",
       "      <th>name</th>\n",
       "      <th>quantity</th>\n",
       "    </tr>\n",
       "  </thead>\n",
       "  <tbody>\n",
       "    <tr>\n",
       "      <th>0</th>\n",
       "      <td>MO</td>\n",
       "      <td>F</td>\n",
       "      <td>1910</td>\n",
       "      <td>Mary</td>\n",
       "      <td>611</td>\n",
       "    </tr>\n",
       "    <tr>\n",
       "      <th>1</th>\n",
       "      <td>MO</td>\n",
       "      <td>F</td>\n",
       "      <td>1910</td>\n",
       "      <td>Helen</td>\n",
       "      <td>313</td>\n",
       "    </tr>\n",
       "    <tr>\n",
       "      <th>2</th>\n",
       "      <td>MO</td>\n",
       "      <td>F</td>\n",
       "      <td>1910</td>\n",
       "      <td>Dorothy</td>\n",
       "      <td>270</td>\n",
       "    </tr>\n",
       "    <tr>\n",
       "      <th>3</th>\n",
       "      <td>MO</td>\n",
       "      <td>F</td>\n",
       "      <td>1910</td>\n",
       "      <td>Mildred</td>\n",
       "      <td>267</td>\n",
       "    </tr>\n",
       "    <tr>\n",
       "      <th>4</th>\n",
       "      <td>MO</td>\n",
       "      <td>F</td>\n",
       "      <td>1910</td>\n",
       "      <td>Ruth</td>\n",
       "      <td>237</td>\n",
       "    </tr>\n",
       "    <tr>\n",
       "      <th>...</th>\n",
       "      <td>...</td>\n",
       "      <td>...</td>\n",
       "      <td>...</td>\n",
       "      <td>...</td>\n",
       "      <td>...</td>\n",
       "    </tr>\n",
       "    <tr>\n",
       "      <th>5933556</th>\n",
       "      <td>KS</td>\n",
       "      <td>M</td>\n",
       "      <td>2017</td>\n",
       "      <td>Xzavier</td>\n",
       "      <td>5</td>\n",
       "    </tr>\n",
       "    <tr>\n",
       "      <th>5933557</th>\n",
       "      <td>KS</td>\n",
       "      <td>M</td>\n",
       "      <td>2017</td>\n",
       "      <td>Yael</td>\n",
       "      <td>5</td>\n",
       "    </tr>\n",
       "    <tr>\n",
       "      <th>5933558</th>\n",
       "      <td>KS</td>\n",
       "      <td>M</td>\n",
       "      <td>2017</td>\n",
       "      <td>Zaiden</td>\n",
       "      <td>5</td>\n",
       "    </tr>\n",
       "    <tr>\n",
       "      <th>5933559</th>\n",
       "      <td>KS</td>\n",
       "      <td>M</td>\n",
       "      <td>2017</td>\n",
       "      <td>Zayn</td>\n",
       "      <td>5</td>\n",
       "    </tr>\n",
       "    <tr>\n",
       "      <th>5933560</th>\n",
       "      <td>KS</td>\n",
       "      <td>M</td>\n",
       "      <td>2017</td>\n",
       "      <td>Zion</td>\n",
       "      <td>5</td>\n",
       "    </tr>\n",
       "  </tbody>\n",
       "</table>\n",
       "<p>5933561 rows × 5 columns</p>\n",
       "</div>"
      ],
      "text/plain": [
       "        state sex  year     name  quantity\n",
       "0          MO   F  1910     Mary       611\n",
       "1          MO   F  1910    Helen       313\n",
       "2          MO   F  1910  Dorothy       270\n",
       "3          MO   F  1910  Mildred       267\n",
       "4          MO   F  1910     Ruth       237\n",
       "...       ...  ..   ...      ...       ...\n",
       "5933556    KS   M  2017  Xzavier         5\n",
       "5933557    KS   M  2017     Yael         5\n",
       "5933558    KS   M  2017   Zaiden         5\n",
       "5933559    KS   M  2017     Zayn         5\n",
       "5933560    KS   M  2017     Zion         5\n",
       "\n",
       "[5933561 rows x 5 columns]"
      ]
     },
     "execution_count": 10,
     "metadata": {},
     "output_type": "execute_result"
    }
   ],
   "source": [
    "# se carga archivo .csv a Data Frame \n",
    "nombres = pd.read_csv(r'C:\\Users\\DELL G5\\Documents\\Umg\\2025\\9no semestre\\2. Inteligencia Artificial\\Primer Parcial\\Serie II\\nombres.csv', sep=\",\");\n",
    "nombres"
   ]
  },
  {
   "cell_type": "code",
   "execution_count": 12,
   "id": "2a312cd5-fd86-4e4a-a9d8-220815f2f2ee",
   "metadata": {},
   "outputs": [
    {
     "name": "stdout",
     "output_type": "stream",
     "text": [
      "a. ¿Existen mujeres llamadas Jules o Nery?: True\n"
     ]
    }
   ],
   "source": [
    "# a. ¿Hay mujeres llamados Jules, Nery? \n",
    "# se extrae información de Data Frame y se almacena en nuevo DF\n",
    "mujeres = nombres[(nombres[\"sex\"] == \"F\") & (nombres[\"name\"].isin([\"Jules\", \"Nery\"]))] # isin() es un método de Pandas que se utiliza para filtrar datos en un DataFrame\n",
    "print(\"a. ¿Existen mujeres llamadas Jules o Nery?:\", not mujeres.empty)\n",
    "\n",
    "# empty es una propiedad de los DataFrames en Pandas que devuelve True si el DataFrame está vacío pero not lo invierte"
   ]
  },
  {
   "cell_type": "code",
   "execution_count": 13,
   "id": "bce576f8-c983-4dd5-b706-c82ce2b7e5cd",
   "metadata": {},
   "outputs": [
    {
     "name": "stdout",
     "output_type": "stream",
     "text": [
      "b. Cantidad de mujeres llamadas Nery en CA y NJ después de 1950: 17\n"
     ]
    }
   ],
   "source": [
    "# b. ¿Cuál es la cantidad de mujeres llamadas Nery en el estado de CA y NJ nacidas después de 1950?\n",
    "# se extrae información de Data Frame y se almacena en nuevo DF\n",
    "\n",
    "cant_mujeres = nombres[(nombres[\"sex\"] == \"F\") & (nombres[\"name\"] == \"Nery\") & \n",
    "                      (nombres[\"state\"].isin([\"CA\", \"NJ\"])) & (nombres[\"year\"] > 1950)]\n",
    "cantidad = cant_mujeres [\"quantity\"].sum() # .sum() es un método de Pandas que se utiliza para sumar los valores de una columna en un DataFrame\n",
    "print(\"b. Cantidad de mujeres llamadas Nery en CA y NJ después de 1950:\", cantidad)"
   ]
  },
  {
   "cell_type": "code",
   "execution_count": 14,
   "id": "f1ebc119-fb4c-41ec-bfa3-80b4f6ed85d3",
   "metadata": {},
   "outputs": [
    {
     "name": "stdout",
     "output_type": "stream",
     "text": [
      "c. Cantidad promedio de hombres llamados Mary después de 1989: 9.0\n"
     ]
    }
   ],
   "source": [
    "#c. ¿Cuál es la cantidad promedio de hombres llamados Mary nacidos después de 1989?\n",
    "# se extrae información de Data Frame y se almacena en nuevo DF\n",
    "hombres = nombres[(nombres[\"sex\"] == \"M\") & (nombres[\"name\"] == \"Mary\") & (nombres[\"year\"] > 1989)]\n",
    "promedio_hombres = hombres[\"quantity\"].mean() #.mean() es un método de Pandas que se utiliza para calcular el promedio \n",
    "print(\"c. Cantidad promedio de hombres llamados Mary después de 1989:\", promedio_hombres)\n"
   ]
  },
  {
   "cell_type": "code",
   "execution_count": 15,
   "id": "2b1d04f4-e4d4-4fc8-8df6-c5c1c9f34ca6",
   "metadata": {},
   "outputs": [
    {
     "name": "stdout",
     "output_type": "stream",
     "text": [
      "d. Tres estados con más mujeres llamadas Nery y Alex:\n",
      "state\n",
      "CA    1014\n",
      "TX     634\n",
      "NY     331\n",
      "Name: quantity, dtype: int64\n"
     ]
    }
   ],
   "source": [
    "#d. ¿Cuáles son los tres estados donde hay más mujeres llamados Nery y Alex? \n",
    "# se extrae información de Data Frame y se almacena en nuevo DF\n",
    "\n",
    "nery_alex_mujeres = nombres[(nombres[\"sex\"] == \"F\") & (nombres[\"name\"].isin([\"Nery\", \"Alex\"]))]\n",
    "estados_mas_nery_alex = nery_alex_mujeres.groupby(\"state\")[\"quantity\"].sum().nlargest(3)\n",
    "print(\"d. Tres estados con más mujeres llamadas Nery y Alex:\")\n",
    "print(estados_mas_nery_alex)"
   ]
  },
  {
   "cell_type": "code",
   "execution_count": null,
   "id": "6c92f95c-4860-4856-84db-11cb3b9e9a57",
   "metadata": {},
   "outputs": [],
   "source": []
  }
 ],
 "metadata": {
  "kernelspec": {
   "display_name": "Python 3 (ipykernel)",
   "language": "python",
   "name": "python3"
  },
  "language_info": {
   "codemirror_mode": {
    "name": "ipython",
    "version": 3
   },
   "file_extension": ".py",
   "mimetype": "text/x-python",
   "name": "python",
   "nbconvert_exporter": "python",
   "pygments_lexer": "ipython3",
   "version": "3.12.9"
  }
 },
 "nbformat": 4,
 "nbformat_minor": 5
}
